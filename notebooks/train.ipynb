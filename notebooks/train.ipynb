{
 "cells": [
  {
   "cell_type": "code",
   "execution_count": 1,
   "id": "ca4cd3d0",
   "metadata": {},
   "outputs": [
    {
     "name": "stderr",
     "output_type": "stream",
     "text": [
      "/Users/toshinori_takahashi/Workspace/nlp/puddle/.venv/lib/python3.12/site-packages/tqdm/auto.py:21: TqdmWarning: IProgress not found. Please update jupyter and ipywidgets. See https://ipywidgets.readthedocs.io/en/stable/user_install.html\n",
      "  from .autonotebook import tqdm as notebook_tqdm\n"
     ]
    }
   ],
   "source": [
    "import json\n",
    "import os\n",
    "import sys\n",
    "\n",
    "from sentence_transformers import SentenceTransformer, SentenceTransformerTrainer, losses, models\n",
    "from datasets import Dataset\n",
    "\n",
    "sys.path.insert(0, os.path.abspath('..'))\n",
    "from puddle import AttentionPooling"
   ]
  },
  {
   "cell_type": "code",
   "execution_count": 2,
   "id": "3f055230",
   "metadata": {},
   "outputs": [],
   "source": [
    "\"\"\"\n",
    "dataset.json format:\n",
    "{\n",
    "  \"anchor\": [\n",
    "    anchor_text_1,\n",
    "    anchor_text_2,\n",
    "    anchor_text_3,\n",
    "    ...\n",
    "  ],\n",
    "  \"positive\": [\n",
    "    positive_text_1,\n",
    "    positive_text_2,\n",
    "    positive_text_3,\n",
    "    ...\n",
    "  ],\n",
    "  \"negative\": [\n",
    "    negative_text_1,\n",
    "    negative_text_2,\n",
    "    negative_text_3,\n",
    "    ...\n",
    "  ]\n",
    "}\n",
    "\"\"\"\n",
    "\n",
    "with open(\"dataset.json\", \"r\", encoding=\"utf-8\") as f:\n",
    "    train_dataset = Dataset.from_dict(json.load(f))"
   ]
  },
  {
   "cell_type": "code",
   "execution_count": 3,
   "id": "a7b6ee92",
   "metadata": {},
   "outputs": [],
   "source": [
    "transformer_layer = models.Transformer(\"cl-nagoya/ruri-v3-310m\")\n",
    "\n",
    "hidden_size: int = transformer_layer.get_word_embedding_dimension()\n",
    "pooling_layer = AttentionPooling(\n",
    "    hidden_size=hidden_size,\n",
    "    intermediate_size=hidden_size * 4,\n",
    ")\n",
    "\n",
    "model = SentenceTransformer(modules=[transformer_layer, pooling_layer])"
   ]
  },
  {
   "cell_type": "code",
   "execution_count": 4,
   "id": "f3318aeb",
   "metadata": {},
   "outputs": [],
   "source": [
    "triplet_loss = losses.TripletLoss(\n",
    "    model=model, distance_metric=losses.TripletDistanceMetric.COSINE\n",
    ")"
   ]
  },
  {
   "cell_type": "code",
   "execution_count": 5,
   "id": "d126b30f",
   "metadata": {},
   "outputs": [
    {
     "name": "stderr",
     "output_type": "stream",
     "text": [
      "huggingface/tokenizers: The current process just got forked, after parallelism has already been used. Disabling parallelism to avoid deadlocks...\n",
      "To disable this warning, you can either:\n",
      "\t- Avoid using `tokenizers` before the fork if possible\n",
      "\t- Explicitly set the environment variable TOKENIZERS_PARALLELISM=(true | false)\n",
      "                                                                     \r"
     ]
    }
   ],
   "source": [
    "trainer = SentenceTransformerTrainer(\n",
    "    model=model,\n",
    "    train_dataset=train_dataset,\n",
    "    loss=triplet_loss,\n",
    ")"
   ]
  },
  {
   "cell_type": "code",
   "execution_count": 6,
   "id": "be52d4b5",
   "metadata": {},
   "outputs": [
    {
     "name": "stderr",
     "output_type": "stream",
     "text": [
      "/Users/toshinori_takahashi/Workspace/nlp/puddle/.venv/lib/python3.12/site-packages/torch/utils/data/dataloader.py:683: UserWarning: 'pin_memory' argument is set as true but not supported on MPS now, then device pinned memory won't be used.\n",
      "  warnings.warn(warn_msg)\n"
     ]
    },
    {
     "data": {
      "text/html": [
       "\n",
       "    <div>\n",
       "      \n",
       "      <progress value='6' max='6' style='width:300px; height:20px; vertical-align: middle;'></progress>\n",
       "      [6/6 00:15, Epoch 3/3]\n",
       "    </div>\n",
       "    <table border=\"1\" class=\"dataframe\">\n",
       "  <thead>\n",
       " <tr style=\"text-align: left;\">\n",
       "      <th>Step</th>\n",
       "      <th>Training Loss</th>\n",
       "    </tr>\n",
       "  </thead>\n",
       "  <tbody>\n",
       "  </tbody>\n",
       "</table><p>"
      ],
      "text/plain": [
       "<IPython.core.display.HTML object>"
      ]
     },
     "metadata": {},
     "output_type": "display_data"
    },
    {
     "data": {
      "text/plain": [
       "TrainOutput(global_step=6, training_loss=4.427654266357422, metrics={'train_runtime': 17.8029, 'train_samples_per_second': 1.685, 'train_steps_per_second': 0.337, 'total_flos': 0.0, 'train_loss': 4.427654266357422, 'epoch': 3.0})"
      ]
     },
     "execution_count": 6,
     "metadata": {},
     "output_type": "execute_result"
    }
   ],
   "source": [
    "trainer.train()"
   ]
  },
  {
   "cell_type": "code",
   "execution_count": 7,
   "id": "5c5f7eeb",
   "metadata": {},
   "outputs": [],
   "source": [
    "model.save_pretrained(\"models/attention-pooled\")"
   ]
  }
 ],
 "metadata": {
  "kernelspec": {
   "display_name": ".venv",
   "language": "python",
   "name": "python3"
  },
  "language_info": {
   "codemirror_mode": {
    "name": "ipython",
    "version": 3
   },
   "file_extension": ".py",
   "mimetype": "text/x-python",
   "name": "python",
   "nbconvert_exporter": "python",
   "pygments_lexer": "ipython3",
   "version": "3.12.10"
  }
 },
 "nbformat": 4,
 "nbformat_minor": 5
}
